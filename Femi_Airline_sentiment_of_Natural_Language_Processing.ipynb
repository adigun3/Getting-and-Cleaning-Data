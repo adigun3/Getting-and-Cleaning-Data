{
  "nbformat": 4,
  "nbformat_minor": 0,
  "metadata": {
    "colab": {
      "name": "Femi Airline sentiment of Natural Language Processing.ipynb",
      "provenance": [],
      "collapsed_sections": [],
      "toc_visible": true,
      "include_colab_link": true
    },
    "kernelspec": {
      "name": "python3",
      "display_name": "Python 3"
    }
  },
  "cells": [
    {
      "cell_type": "markdown",
      "metadata": {
        "id": "view-in-github",
        "colab_type": "text"
      },
      "source": [
        "<a href=\"https://colab.research.google.com/github/adigun3/Getting-and-Cleaning-Data/blob/master/Femi_Airline_sentiment_of_Natural_Language_Processing.ipynb\" target=\"_parent\"><img src=\"https://colab.research.google.com/assets/colab-badge.svg\" alt=\"Open In Colab\"/></a>"
      ]
    },
    {
      "cell_type": "markdown",
      "metadata": {
        "id": "VwK5-9FIB-lu",
        "colab_type": "text"
      },
      "source": [
        "# Natural Language Processing"
      ]
    },
    {
      "cell_type": "markdown",
      "metadata": {
        "id": "X1kiO9kACE6s",
        "colab_type": "text"
      },
      "source": [
        "## Importing the libraries"
      ]
    },
    {
      "cell_type": "code",
      "metadata": {
        "id": "7QG7sxmoCIvN",
        "colab_type": "code",
        "colab": {}
      },
      "source": [
        "import numpy as np\n",
        "import matplotlib.pyplot as plt\n",
        "import pandas as pd\n",
        "\n"
      ],
      "execution_count": 0,
      "outputs": []
    },
    {
      "cell_type": "markdown",
      "metadata": {
        "id": "wTfaCIzdCLPA",
        "colab_type": "text"
      },
      "source": [
        "## Importing the dataset"
      ]
    },
    {
      "cell_type": "code",
      "metadata": {
        "id": "UCK6vQ5QCQJe",
        "colab_type": "code",
        "colab": {}
      },
      "source": [
        "dataset = pd.read_csv('Airline-onlinetsvtools.tsv.txt', delimiter = '\\t', quoting = 3)"
      ],
      "execution_count": 0,
      "outputs": []
    },
    {
      "cell_type": "markdown",
      "metadata": {
        "id": "Qekztq71CixT",
        "colab_type": "text"
      },
      "source": [
        "## Cleaning the texts"
      ]
    },
    {
      "cell_type": "code",
      "metadata": {
        "id": "8u_yXh9dCmEE",
        "colab_type": "code",
        "outputId": "7e348bee-0748-4177-9890-961398d1317a",
        "colab": {
          "base_uri": "https://localhost:8080/",
          "height": 51
        }
      },
      "source": [
        "import re\n",
        "import nltk\n",
        "nltk.download('stopwords')\n",
        "from nltk.corpus import stopwords\n",
        "from nltk.stem.porter import PorterStemmer\n",
        "corpus = []\n",
        "for i in range(0, 1000):\n",
        "    review = re.sub('[^a-zA-Z]', ' ', dataset['review'][i])\n",
        "    review = review.lower()\n",
        "    review = review.split()\n",
        "    ps = PorterStemmer()\n",
        "    review = [ps.stem(word) for word in review if not word in set(stopwords.words('english'))]\n",
        "    review = ' '.join(review)\n",
        "    corpus.append(review)\n"
      ],
      "execution_count": 3,
      "outputs": [
        {
          "output_type": "stream",
          "text": [
            "[nltk_data] Downloading package stopwords to /root/nltk_data...\n",
            "[nltk_data]   Unzipping corpora/stopwords.zip.\n"
          ],
          "name": "stdout"
        }
      ]
    },
    {
      "cell_type": "code",
      "metadata": {
        "id": "0Za2vl0pfE2-",
        "colab_type": "code",
        "colab": {
          "base_uri": "https://localhost:8080/",
          "height": 34
        },
        "outputId": "7367e826-7f01-499c-af6f-655120f7cfd2"
      },
      "source": [
        "print(review)"
      ],
      "execution_count": 4,
      "outputs": [
        {
          "output_type": "stream",
          "text": [
            "southwestair got help nice ladi phone georgia thank\n"
          ],
          "name": "stdout"
        }
      ]
    },
    {
      "cell_type": "code",
      "metadata": {
        "id": "5muzzsYtgAhJ",
        "colab_type": "code",
        "colab": {
          "base_uri": "https://localhost:8080/",
          "height": 54
        },
        "outputId": "4d392830-5c76-42bd-a5e6-c9235a6aad5c"
      },
      "source": [
        "print(corpus)"
      ],
      "execution_count": 5,
      "outputs": [
        {
          "output_type": "stream",
          "text": [
            "['virginamerica hahaha virginamerica guy amaz love guy', 'unit relax space drink flight unit global first loung http co j cj lrf http co dtlguq kak', 'unit receiv notif flight wi fi ua flysfo sydneyairport amaz', 'virginamerica think pay extra buck rt luggag might afford hire extra hand sfo lame', 'unit still refund word via dm pleas resolv issu cancel flightl flight useless assist trip', 'virginamerica anoth delay flight likingyoulessandless', 'unit silli fli delta today unit club staff attend surli unhelp alway seem bother peski folk', 'southwestair crew great job keep everyon inform delay givethemrais', 'unit flew sdf atl tampa delta left earli arriv earli crew help wifi work', 'southwestair ok thank hope', 'unit thank one month ago none weird club one busiest airport us', 'unit protect flight gate agent kerri la also excel job get destin today thank', 'unit thank', 'virginamerica anyth go websit get lot error past minut', 'hey unit upgrad hour intern flight forgiv thank', 'unit thnx', 'unit thnx lo', 'unit thnx', 'unit zcc u cancel flight flight h advanc need connect flight reschedul link help help gf wait month see', 'unit simonroesn need upgrad seat even economi plu like sit concret bench', 'unit thnx info', 'unit ok thank help', 'unit thank need follow back tho otherwis dm x', 'virginamerica fine alreadi done purchas tri go way go back', 'virginamerica today flight palm spring ca jfk ny cancel flightl', 'unit denver board finger cross get air', 'unit suck southwestair best', 'unit kept watch safeti video first time forev nice job', 'unit enjoy heathrow loung much almost miss airnzusa flight', 'unit thank much abl contact', 'unit thank everyth ok', 'virginamerica site back', 'virginamerica websit btw new websit great user experi time anoth redesign', 'southwestair eye next step improv inflight wifi runway girl http co h ht oz', 'southwestair go ahead start scaveng hunt pm today work destinationdragon', 'unit ok thx', 'virginamerica flight schedul pm departur still say time plane gate updat long delay', 'virginamerica airlin cancel flight flight bo help custom get home virgin say good luck', 'virginamerica one travel affect boston storm shock virgin complet apathi toward custom', 'virginamerica group virgin other bo weather expos actual cu serv model never flight book problem virgin', 'unit think rough moment w bad passeng earlier flight thing got consider better thank', 'virginamerica flight artisan chees wine pair', 'virginamerica sure lot jfk lhr flight go lot faster mph strong tailwind', 'virginamerica dad segway best part whole infograph', 'unit pilot fa ground personnel great job weather blame talk', 'unit awesom thx thx repli damn fast sure hell beat cheez hold music', 'unit met custom servic arriv flight ua pvd iad thank guy realli handl storm', 'unit elizabeth washington dull hook new connect flight gate super pleas', 'virginamerica dm issu persist', 'virginamerica websit tri check', 'unit million miler ua fli almost everi week observ gate flight crew commit good oper', 'unit look forward fli guy well', 'unit thank', 'unit process ever end still wait repli sinc month pathet customerservic', 'unit flight plane sfo den basic time', 'unit need get cvg bag thank', 'southwestair anyon help upgrad buis select cant seem get hail right area know guy good', 'virginamerica wow blew mind', 'unit great fare', 'unit hi jp help awesom tsa repres abl get taken care thank', 'unit thank amaz airlin know treat custom guy rock', 'southwestair thank guy best', 'unit great pl let know u start', 'unit impress super fast repli cgjase', 'unit big thank mn kn patient clarifi unit domest world', 'unit forgot intl flight lax go intl termin easiest check ever woo', 'unit gave smile today zero award comput sens humour http co jnqnbk hut', 'nice rt virginamerica man steel might faster wifi say sciencebehindtheexperi http co fgrbpazsix', 'rt virginamerica met match got statu anoth airlin upgrad restr http co rhkamx vf http co pyalebgkjt', 'awesom rt virginamerica watch nomin film feet meetthefleet oscar http co dnstitrzwi', 'virginamerica take year fli home dalla get shit togeth', 'virginamerica kinda suck earphon jack work flight may want look futur passeng', 'virginamerica group got cancel flightlat fee waiv ticket book rep help either', 'unit houston bogota board safeti first seem mechan fix problem faster good energi fli home famili', 'unit made mad call bag number person help told bag realli', 'unit brandi zabsonr denver deserv rais bring delight terribl travel situat big up http co tk aopdtsq', 'virginamerica bought tix atx dalla rout thank ad love yr airlin amp yr websit best transact site ever', 'virginamerica plane realli pretti thought u know', 'virginamerica cool never ur plane', 'virginamerica omg final', 'virginamerica thankyou dal au rout make day', 'virginamerica awesom deal dal au way http co xcvqxykg', 'virginamerica fli love austin excel news', 'virginamerica minu minut elev silver upgrad window open freeneversuck', 'virginamerica use passbook still love though lt use email futur', 'virginamerica thank best custom servic left industri', 'virginamerica realli wish fli fargo fargoairport fare amaz', 'unit great way start vacat time departur look forward global first class suit', 'unit joni great job flight lax thank great flight', 'unit far good step denver next stop portland', 'unit orthodoc call flight glad servic', 'unit pleas give special thank aaron tampa offic help liter two hour amaz mission accomplish', 'unit thank', 'unit thank upgrad st class may min flight appreci', 'unit parryaftab done thnx', 'unit thank margo houston bush intercontinent get home earlier', 'unit good next flight littl delay work', 'unit amaz realli', 'unit flew ord miami back great crew servic leg thank', 'unit club denver dope', 'unit ooh thank', 'unit thank', 'unit thank time servic amp great staff get wife cancun past week honeymoon', 'virginamerica sent coupl messag email provid avail tri next year cheer', 'virginamerica cancel flight flight today precipit scare', 'virginamerica boo refund seat upgrad fee want buy first place', 'virginamerica guy charg reschedul flight cancel flight refus refund deal', 'virginamerica flight bo gt la tomorrow cancel flightl notif wait time hour rebook anoth airlin', 'virginamerica access websit safari iphon seem work mac ipad need iphon add passbook', 'virginamerica soooo guy go leav seatbelt light flight bare call turbul', 'virginamerica thank great flight la boston pilot great job land snow go back la serious', 'unit stellar custom servic earn busi attent detail', 'unit know last name karen call center terrif friendli help terrif repres kudo', 'unit give recognit deserv', 'unit especi like upgrad three crew member first class instead passeng keepitclassi customerservic', 'virginamerica done thank quick respons appar faster sit hold', 'virginamerica good peopl love field amaz pressur texa beatstheoth crisi pleas fli ny', 'virginamerica thank easi itinerari shift impend weather quick painless amp free', 'virginamerica happi spend day togeth let', 'unit thank', 'unit kurt crew ua amaz today made son birthday kind hope fli soon', 'unit thank compens us lost bag fli unitedairlin', 'unit upgrad first class nice way fix earlier mistak thank', 'unit rhonda c atlanta airport redeem guy got us straighten', 'unit provid voucher one custom tweet day long earnedmybusi', 'unit servic staff great usual cleanli smell bit much back satisfi travel', 'unit thank great flight gfc cheer http co nvlnglnmgn', 'unit ok sent u info via dm appreci help consider', 'unit make sure done thank help huge race tri make sure goe smoothli peac', 'unit dm sent thank', 'unit thank took care call', 'unit may hit new statu year flown sever time year tri book everi time', 'unit type person make custom day fli time year amp one top flight attend', 'unit win top mark custom servic via twitter turn poor experi posit mani thank effort', 'unit flight experi r often frustrat day ua chi wpg flight attend april amaz best', 'unit free booz bach parti would make better ord gt msi delay enjoy either way thank', 'unit thank help appreci', 'unit goodspe follow mainten team thank tweet kp thank unit care', 'unit appreci sentiment abl get ground still miss connect', 'unit thank time updat', 'unit good fli unit businessfirst', 'unit firstclass london way londonfashionweek lfw', 'unit thank wonder global first class flight fra great servic cont http co n kdcsxu', 'unit would great k us', 'unit got lost kindl mail thank', 'unit fair enough usual rant good know someon listen', 'unit sonyasloanmd happi board pleas share detail http co trgemtebz kp done', 'unit well taken care thank alreadi sent survey request amp share posit experi despit delay', 'unit perfect thank', 'unit thank', 'unit home next hr gfc http co mkpognntyc', 'unit kind cool run boss man sfo http co bm k x j', 'unit global first class loung ord menu yummi http co egkvfokogj', 'unit thank address', 'unit sure talk go nonstop flight sna sfo sfo ewr', 'unit yep correct got email flight cancel flightl matter flight atl delay thx', 'unit yeah sorri alway problem unit intern reput problem', 'unit travel book thru unit group dept okc ticket agent less will help connect lax', 'unit dm detail still respons book today', 'unit tri one avail bogota everyon rude houston stuck hour guy', 'unit see told repeatedli pilot late flight kept get late flightr board defibril issu', 'unit rude rude', 'virginamerica hey first time flyer next week excit hard time get flight ad elev account help', 'unit found problem avoid like plagu told find supervisor', 'unit refund flight voucher anoth flight differ airlin expens today hour drive inconveni', 'unit thnx quick repli think assist intl grp put consider inconveni today', 'unit go websit flight book problem three ticket today boot system umpteen time', 'unit outbound bag lb bag return home bag lb logic write machin human help requir', 'unit ua still wait suppos depart', 'unit okc ticket agent roger mclarren sp less help intl group travel problem find supervisor help', 'unit nd flight also delay pilot board sit schedul', 'unit move americanair unit talk servic', 'unit get cancel flightl hour take', 'unit luckili made flight time disappoint lack commun', 'unit check see flight atl ord got cancel flight', 'unit flight delay one rememb turn heat flight leav ord serious', 'unit thank program comment system assign seat behind even though pair avail chang back', 'unit fli southwestair never issu', 'southwestair left ipad seat pocket file lost item report receiv exactli week late flightr record unbeliev', 'southwestair would appreci thank', 'virginamerica getaway deal may one way lot cool citi http co b xi yg cheapflight farecompar', 'unit flight ua gate b tell ray somehow made flight iah wait one', 'unit thank karen salisburi iah amaz custom servic found daughter bag lost ua made day', 'ye thank much unit whitterbug see spoke reserv team reinstat flight thank ey', 'unit captain behalf front offic welcom board never heard laugh hard funnycaptain', 'unit thank respond quickli help tool dustyob', 'unit ok submit thank opportun give feedback', 'unit jm outsourc unit airlin custom love outsourc outsourc outsourc', 'unit understood thank tri reach sooner', 'unit travel megzezzo injur gate agent chicago awesom help ty roadwarrior', 'unit guy name oti ord know customerservic abl get bag upgrad sure', 'unit trust enough put coat check bag', 'unit final made rep solv problem', 'unit denver ap gate b destin santa fe agent ashley amaz job face angri travel kudo', 'unit agent servic weekend trip amaz thank', 'unit got thank', 'unit touch miami far nice done unit', 'unit final got help appreci', 'southwestair love alway get best deal', 'southwestair never mind move flight tomorrow thank help', 'southwestair thank much', 'southwestair best airlin hand amaz custom servic bag free afford flight happycamp', 'southwestair cool shot moon one fleet http co kl baim', 'southwestair great day air http co ync zut zz', 'southwestair realli love custom servic lou ann phx rock thank sw ourguest', 'southwestair oh worri never seen today mean great card', 'southwestair see worker time time go beyond love fli guy thank', 'southwestair travel agent darrel love field host paper airplan contest entertain children awesom see', 'southwestair big kudo staff today dalla love field lift everyon spirit today delay cancel flightlat', 'southwestair love southwest guy good http co x tdi dbh', 'southwestair awesom staff check desk paper airplan race sw gift card keep ppl entertain delay', 'southwestair love passbook updat use day releas final thank', 'southwestair anoth great trip lax la bna thank much', 'virginamerica tri make chang advanc hour prior tri onlin earlier want chang fee', 'virginamerica never bad experi one took cake extort carri item well', 'virginamerica spend hour worri item carryon would broken stolen sinc carri plane lock bag', 'virginamerica thank make flight lax jfk nightmar forc check carri bag gate', 'virginamerica group e told room bin got plane room least bag row', 'virginamerica lot flight book site work phone wait minut', 'virginamerica tri offer charg addit k new ticket strand thur st time last time', 'virginamerica great return call day ask myvxexperi', 'unit sorri end us air flight thank though get back', 'unit keep flight cheap earli time good flew americanair cancel flightl flight time last month unit gt', 'unit worri custom servic get bad wrap spoke w agent save huge amount time amp apolog yesterday', 'virginamerica cours work virginatlant obsess entir virgin famili', 'virginamerica ok first time fli tonight', 'virginamerica grandma ella th would lt bday greet flight crew stewardess eastern airlin', 'virginamerica safeti video http co cqmm nue love first cross countri flight livewelltravel sytycd', 'virginamerica thank', 'virginamerica thank need way make austin trip dca come', 'virginamerica got set thank', 'virginamerica thank good also see friday nwk gt sf boom', 'virginamerica wifi better seat', 'unit want shout thank pilot staff feb flight newark boston pm super help', 'unit messag sent thank', 'unit thank jt', 'unit thank la someth special', 'unit fine take', 'unit okay thank help', 'unit okay thank help jt appreci time', 'unit ye lhrt loung fantast us one could remot similar', 'unit offici favorit airlin creat magic day friendlyski careyon', 'unit wonder flight attend name leah us lga den den anchorag', 'unit hey awesom thank repli fill form americanair', 'unit thank check', 'unit go ahead live premium cabin heaven en rout lhr', 'unit cool thank', 'unit give cyndi amp troy gold star', 'unit bring game premium cabin dine nice http co zgoqoxjbqi', 'unit jt thank help complet form back home', 'unit might deal frustrat passeneg hope great day thank much amaz airlin', 'unit holi high speed internet batman speed unit club iad insan fast thank', 'unit thank kp pleas also mention quich breakfast tandoori chicken dinner entre accompani truli first class', 'unit stay warm pass chicago next week', 'unit wifi onboard far superior price perform user perceiv bandwidth late flightnci recent gogo experi', 'unit new appl cr pe amaz live ua realli nice crew americanair biscuit ua need http co gz gqdt jj', 'virginamerica serious though direct flight sfo fll may', 'virginamerica flight vega boston today check onlin bag count regist fix somehow', 'virginamerica tri check look like site', 'virginamerica passeng flt assault flown trust ban crew file report faanew', 'virginamerica funni stori websit broken miss javascript stylesheet checkin process dislik', 'virginamerica husband order three drink via screen never came awesom', 'virginamerica appli statu match feb got confirm email day still news though guy drop ball late flightli', 'virginamerica congrat got busi ewr sfo lax fuck unit fl sfo ewr clincher', 'virginamerica someth wrong websit safari iphon', 'virginamerica tri check ct flight tmm desktop websit work sort cach bug so', 'virginamerica tri book flight guy websit let lose busi', 'virginamerica appli week ago heard back fli week disappoint', 'virginamerica logan airport wait checkin flight checkin desk open', 'virginamerica disappoint agent design silver statu check line dull airport close assist paseng', 'virginamerica seat row reclin mention websit soreback', 'virginamerica bad say take day via confirm email inquir week claim week', 'virginamerica flight fli boston tomorrow need home cancel flightl flight anyth', 'virginamerica never rec cancel flightlat notic left w option fli ps drive la red eye mon w kid', 'virginamerica stink flight cancel flight psp jfk notif abil rebook disappoint expect better', 'virginamerica flight delay hour la due mechan problem handl like pro could toss us free drink', 'virginamerica css site right pleas fix site unus', 'virginamerica twitter team guy kill reschedul asap thank', 'unit realli great amp flatter stori proud http co br qcxk via parachuteguy', 'unit ye must fix broken ramp thank', 'unit hmmm seem like could someth chang flyerfriendli', 'unit flight cancel flight trip refund without difficulti staff extrem help complaint way handl bad weather', 'unit love told would issu refund get us way hurrican deni', 'unit nawww unit fave airlin', 'unit thank help wish phone rep could accomid', 'unit thank make sure hear messag', 'virginamerica thank follow', 'virginamerica match americanairlin statu cool', 'virginamerica cool pictur anoth virginamerica plane wing site http co b agfd c', 'virginamerica thank much', 'virginamerica nice done', 'virginamerica look forward watch oscar flight home tomorrow might even get someth bubbl drink', 'virginamerica thank', 'virginamerica love wait monday return flight mostli watch inflight safeti video sorrynotsorri', 'virginamerica hi want see new rout plan year newark love fli guy hope', 'virginamerica mean probabl inappropri board', 'virginamerica understand help thx comp', 'virginamerica ssal thank', 'unit thank fli mess iad san diego http co tlpbaupik', 'unit one ladi help us luggag', 'unit met agent taken care thx repli', 'unit suntoshi still like unit airlin', 'unit tonight made fred flintston happi upgrad st class http co gkgkzlawpr', 'unit thank sure arrang move earlier flight gate seat assign super nice agent gate c ord', 'unit ask boyfriend prom loudspeak flight said ye best day ever thank u much', 'unit flight amaz best flight ever kid servic incred', 'unit cldnt happier w mani plastic wing pin given flight love amaz staff nice http co cbv f kbkx', 'unit phenomen frm gate sea gate iad', 'unit good thank', 'unit held plane made', 'unit hope', 'unit brian sfo custom servic deserv rais gave extra meal voucher good joke cheer flight delay ftw', 'unit thank nice even', 'unit thank lea chicago offic help switch cancel flight flight', 'unit bag final deliv intact thank assist', 'unit flight went great improv view airlin cheer flight attend ua deserv rais', 'unit sent dm thank incred happi fast respons got via twitter via custom care thank', 'unit look like came thank help', 'unit thank prompt respons anoth hour enjoy vacat perhap bug app still show', 'thank unit prompt assist', 'unit cours inflight crew great', 'unit well play lo', 'unit thank much help ton whoever twitter acct today deserv handshak hot chocol flight problemsolv', 'unit u might imagin former pilot particularli touch gestur pleas let fo know keepingtraditionsal', 'unit thank made', 'unit hi flight tri book new one way flight departur show pm seem accur', 'unit huge kudo fo sunday flt sjo iad hand daughter first pair wing keep tradit aliv', 'unit awesom new plane flight', 'unit mayb return trip', 'unit got gate thank check', 'unit pleas went beyond made us number one prioriti', 'unit reflight book problemss last day time unit wait time lt second kudo excel custom servic', 'unit leav soon thank', 'unit got right safeti demonstr corpor funni reserv corni http co lwotkiekgu', 'unit got call bag deliv tonight thank repli', 'unit think board flight au earli think', 'unit email address usernam sign avail', 'unit hotel peopl feel like held hostag someon board pass leav fail', 'unit phone number find call flight reserv', 'unit eri ord express connect huge popular could eri ewr hop', 'unit gate agent hook altern flight way prevent constant issu would rock', 'unit termin mia food open esp flight two hour earli like recommend eat', 'virginamerica direct flight fll gt sfo unexpect layov vega fuel yet peep next bought vega flight sneaki', 'virginamerica got flight told today check email tomorrow unaccept', 'unit also run instruct shatter comput http co oaflfr wxb', 'unit ye agent last minut one agent rude thank ladan nice', 'unit tri book award septemb need flight aegeanairlin show even w mani award seat availab', 'virginamerica fail custom check process link tsa pre check', 'unit sure drive total hour get bag like explain debacl one want talk', 'unit newarkliberti airport need indic differ gate termin amp c flyingainteasi', 'unit see guy amaz one compani continu make mistak yet fail held account error', 'unit disappoint u didnt honor credit given ur mistak take busi elsewher', 'virginamerica phone number find call flight reserv', 'lindaswc unit like hear poor experi pleas share detail w custom care team http co hisc ndmgz', 'virginamerica hi virgin hold minut earlier flight la nyc tonight earlier pm', 'unit worst nonrefund first class ticket oh select global fc system auto select economi w upgrad', 'virginamerica pleas provid statu flight cant imagin time web indic dude weather dalla', 'unit look get bag lusaka', 'virginamerica hi excit lga gt dal deal tri book sinc last week amp page never load thx', 'unit help baggag servic desk said bc tsa screen fll bag made bag ewr', 'virginamerica call week ago ad flight elev still shown help', 'virginamerica everyth fine lost bag', 'virginamerica concern fli plane need delay due tech stop', 'virginamerica book seat flight buy even check creat much anxieti frustrat', 'virginamerica flight lga cancel flight stuck dalla call reschedul told could get flight today', 'virginamerica pair includ red wine white offer redwineisbett', 'unit bag still colo spring disabl search unfamiliar airport look bag good outcom', 'unit denver said handl baggag made colo spring gave number call help either', 'unit getmeontop week late flightr still receiv mile mileageplu gift card starbuck card hand', 'unit go ua outbound flight last thur delay hr long delay worst unitedflightsev', 'unit ask legitim question systemwid vs local problem got back unrel flightd copi past better', 'unit bag make flight iad second day without cloth pretti inconveni pretti curiou unitedairlin', 'unit bag leav washington yet would conveni see left day ago unitedairlin lostluggag', 'virginamerica getaway deal may one way lot cool citi http co tzzjhuibch cheapflight farecompar', 'virginamerica come back phl alreadi need take us horribl cold pleasecomeback http co glxfwp nqh', 'unit wow deal plu seat avail easi chang make custom happi', 'unit exactli point fit premier access board group return ticket yr', 'unit would help integr app activ surf', 'unit would love help get today ewr take airlin connect thx', 'unit sincer thank pilot flight brave snow get home amongst mani cancel flightlat', 'unit social media team point oscarnight', 'unit thank updat hour delay exact second got atl', 'unit nope even better seat due w amp b first rais hand got move fast enough', 'unit thank', 'southwestair bump preboard flight fat whatev reason thank', 'southwestair bring back jackson ms miss terribl around airlin horribl', 'southwestair terri hero got husband back thru secur retriev cellphon austin terri rock', 'southwestair thank go motion shortli flight yesterday wonder quickli flight attend notifi', 'virginamerica ladygaga carrieunderwood juli andrew way though ladygaga impress carrieunderwood', 'virginamerica worri great ride new plane great crew airlin like', 'virginamerica best airlin flown easi chang reserv help repres amp comfort fli experi', 'virginamerica love team run gate e la tonight wait delay flight kept thing entertain', 'virginamerica flight home dc sunset globe backtowint back work refresh http co vx vbctdlf', 'unit thank take care mr happi custom', 'unit thx updat', 'unit despit bag make newark good inform email track updat help', 'unit thank sent', 'unit kudo cancel flightl flight dfw morn unit usual first panic', 'unit anoth awesom new plane flight extrem nice captain steve connolli', 'unit melaniespr see kn run plane run thank help', 'unit', 'unit appreci effort get home', 'unit despit shaki connect look like get home tonight great job unit touch go', 'unit thank u secur room night thx help custom servic rep n dorn thank u goodenoughmoth', 'unit thank flew newark vail eagl', 'unit prioriti iov', 'unit soon done articl thank tom', 'unit pleas robin ewr premier desk help get earlier flight work huge thank', 'unit thank kind agent went amp beyond get strand famili home', 'unit counter agent rdu deserv medal thankyou', 'unit wow even answer back awesom americanair usairway custom servic usairwaysfail', 'unit thank much help pick bag aspen airport amp come today flight', 'unit confirm seat crisi avert beer miss', 'unit thank', 'unit thank look get back via dm glad hear bag final deliv thank', 'unit like thank recogn terri p dull go way get back raleigh flight', 'unit abl send dm good', 'unit staff rather effici got us solut freak littl limbo air', 'unit earli frontrunn best airlin oscar', 'unit thank help cheer', 'unit look reason travel quot http co gguig z', 'unit let us know advanc reboot ye thank attent', 'unit want compliment ur phone agent jeanett reflight book problem rdu sea thru sfo connect flight thru ewr cancel flightl', 'unit denver baggag handler total impress us today lung bare made run connect bag problem den', 'unit went custom servic kiosk abl help still thank follow', 'unit fine automat chang connect flight miss work', 'unit thx dm conf mqxc amp mpwnc help appreci', 'unit comfort wait luggag', 'unit nicol quito airport took great care us week handl lost baggag seat chang profession nice pat back', 'unit thank leav year old row flight lax iad', 'quick ty unit auciello sorri hear pleas follow dm detail transpir jh', 'unit thank', 'southwestair thx make right help meagan fouti brancato fl dfw gate preboard w kid b group pleas pleas', 'southwestair thank take good care peopl al http co yywafkfi kevinswan alstdi life stori', 'southwestair thank tip', 'southwestair thank team deal flight houston', 'southwestair love new plane light wish window larger http co h uj cjg', 'southwestair happi enter sweepstak nutsaboutsouthwest', 'southwestair thank great custom servic today', 'southwestair favorit airlin never issu plu crew entertain', 'southwestair thank', 'southwestair fun delay nashvil la vega crew gate c desk awesom patienc luvswa', 'southwestair hour degre differ ye pleas mht mco sadi http co mraw qdw', 'southwestair look like bellagio good luck peopl see show vinyl', 'southwestair thank get us paradis safe http co kdzqczlpyr', 'southwestair terri hero got husband back thru secur retriev cellphon left plane austin terri u rock', 'southwestair terri hero got husband back thru secur retriev cellphon left plane austin terri u rock', 'southwestair thank quick repli travel lot much lol', 'southwestair awesom thank guy rock', 'southwestair thank ad passbook abil hope group passbook ticket futur somehow', 'unit nice earli back home http co geg nghmie', 'unit sweet follow back get dm', 'unit everi unit flight saipan guam adventur never know capeair old plane oper', 'unit omg thank u', 'unit sent email custom care tell may break sincer hope help', 'unit custom servic atroci disrupt travel plan lost luggag imposs talk human', 'unit guy need seriou train custom servic mani better option put way guy handl ur mistak', 'unit one great airlin', 'virginamerica normal receiv repli central baggag baggageissu smh', 'unit flew telaviv paid third suitcas even make plane besid impolit servic', 'unit receiv flight unit truli break guitar unitedbreaksguitar wantmymoneyback', 'virginamerica ladygaga carrieunderwood ladi gaga amaz', 'unit got home amid snow amp cancel flightlat deliv bag w hassl plu wait phone amp upgrad thank', 'unit thank', 'unit thank would awesom', 'unit thank', 'unit pleasantli surpris qualiti servic flight flew lga cle den friendli crew love concept byod worksnic', 'unit file refund claim told charg dm disput bank henc would like', 'unit speak real person get resolv polit effici', 'unit finger cross amp intact disappoint experi actual say enjoy use', 'unit yet complain guy check luggag throw bag around unfortun coincid hope', 'unit accord dm owe refund pleas may provid contact number go bank file claim', 'unit ok month wait hear airlin gave quit bit day request terribl servic', 'unit ok top thing lost luggag could get wors unitedairlin', 'unit henc ask custom servic phone number speak real person get sort', 'unit respond variou request contact number anyon know uk custom servic number unitedairlin', 'unit could updat suitcas pleas onlin phone track told noth told back yesterday', 'unit unrival access california flight u uk airport nonstop one stop connect year round', 'unit thank new club hare comfort made difficult weather day profici enjoy', 'unit good thing hold flight peep late flight connect flight still make destin time', 'virginamerica thank see soon excit see expans destin spread wing', 'unit would great', 'unit thank', 'unit flight rsw tonight amp twin year old pilot row stay help get boy amp bag lifesav', 'unit well thank charg switch two cancel flightl flight anyway pretti nice stillmakingmepoorthough', 'unit sorri hear outsourc plan bois best staff cust servic countri bois', 'unit receiv bag appreci take care matter follow', 'cc dadbon boldflavor unit bring bourbon st ft bold flavor fresh ingredi dine option', 'unit appreci follow', 'virginamerica flight stuff wrong noth worst flight ever', 'unit ye food add gluten free option', 'unit thank', 'unit thank help', 'unit fill ye thank bringyourown kleankanteen http co daaa rqbxw', 'unit thank', 'unit gate agent alavera amaz', 'unit annricord great appreci', 'unit mobil board pass disappear phone stand line board second time week hmm', 'virginamerica guy mess seat reserv seat friend guy gave seat away want free internet', 'unit need guy book plane concern travel someon els move forward', 'virginamerica check add bag websit work tri desktop mobil http co avyqdmpi', 'unit delay due lack crew delay long line deic still need improv servic unit', 'unit get board pass austrian airlin codeshar flight rebook incl hour layov amp stuck outsid sec', 'unit drop bag overnight amp leav week suppos hold bag', 'unit work like charm bag wait carousel got baggag claim welldon goodflight friendlyski', 'southwestair netneutr nice see priorit internet traffic stream servic web site', 'virginamerica awesom flew yall sat morn way correct bill', 'virginamerica rock make watch oscar flight redcarpet oscar oscar', 'unit thank lol ua wait us per flightawar tail number ua', 'southwestair custom centric know peopl anamarket', 'southwestair arriv late flight pilot got us dia time impress outstand greatservic allgood', 'unit thank thank thank contact thank offer travel certif unitedairlin', 'unit last thing u guy charg drink transatlant flight', 'unit thanx much follow email ticket voucher unitedairlin care', 'virginamerica sad learn longer fli sfo gt phl hope return', 'virginamerica poor experi first comput problem seat malfunct stuck miss meet san diego', 'virginamerica start flight scold use overhead bin offer person seat next', 'virginamerica loyal drive nyc pa fli virgin sinc cut philli flight', 'unit honestli stop tri report thing via websit laugh flight work mile accru sure cosmet', 'unit thank help understand reduc price seat sold check prioriti certif', 'unit thank explan seem like odd incent structur tho dramat diminish valu cert', 'unit big pilot turn hr tarmac min delay arriv', 'unit worri tweet make sure tag line fli friendli sky', 'virginamerica love guy pl get direct rout la au', 'virginamerica flight book problem last second flight next week sfo san chanc want gift promo code sinc love guy', 'virginamerica great well deserv', 'virginamerica giant virgin america match made heaven', 'virginamerica love take southwestair backyard consum win biz compet', 'virginamerica jezziegoldz would rough trip luckili virginamerica flight weather', 'virginamerica love danc littl richard cool bean', 'virginamerica thank free birthday point right', 'virginamerica guy perfect alway lt wervirgin', 'virginamerica fli lax sfo look awesom movi lineup actual wish long haul', 'unit thank second flight alreadi got bump st love', 'unit thank', 'unit well john hugh birthday stick w plane amp hold train amp automobil gate worker well', 'unit thank love unit flight today', 'unit thank', 'unit thank help total appreci made super easi', 'unit flyana offici pleasantli surpris find ana made major upgrad transpacif rout flight plane servic', 'unit jsumiyasu thank unit ground staff put last seat last flight home late flight still home', 'virginamerica tri book ticket nyc face super fun broken style worri keep tri', 'virginamerica site help', 'virginamerica tri reset password email never arriv help', 'virginamerica wtf paid direct flight purpos stop fuel exhaust frequent flier noth inconveni', 'virginamerica check site look like everi time load http co kaci awdbw', 'virginamerica alreadi check page expir x', 'virginamerica carrier less half price round trip fare stun http co ukdjjijrow', 'virginamerica move seat notic better seat cabin select behind row select disappoint', 'virginamerica current bug websit show select departur citi select destin citi http co sllyib vq', 'virginamerica wtf happen pdx late flight march one way sfo', 'virginamerica chang anoth airlin get dc today unit abl land dc cost ugh', 'virginamerica tri book flight amp site', 'virginamerica look forward first flight today cancel flightl along subsequ one', 'virginamerica hold time call center bit much', 'virginamerica luggag sever dent miss wheel come baggag claim san luggag agent miranda think help', 'virginamerica guy know check link email broken http co npxb obmr', 'unit thank person houston could get flight rout newark nj go sfo', 'unit hi look like connect delay make thank', 'unit thank hope easili resolv', 'unit final gave let threaten send back vega coach thnx', 'unit come back iflyoakland huge east bay custom base due sfo miss', 'unit plane thank mayb let mani peopl check teem moron', 'virginamerica way fli elev gold', 'virginamerica thank', 'virginamerica keep great work', 'virginamerica like http co vpqem xuq', 'virginamerica best flight attend ever http co pxdel nq l', 'virginamerica sound like fun', 'virginamerica thank great custom servic today amp help get travel sort', 'virginamerica thank good time back vodkaton entir flight sfo', 'virginamerica great job ad littl luxuri aesthet improv air travel experi thank keep', 'virginamerica thank gate check baggag full flight dfw lax give earli board sweet', 'virginamerica see', 'virginamerica would love virgin like gopro', 'virginamerica thank absolut', 'virginamerica thank', 'virginamerica thank take care suuperg flight rockstar travel', 'virginamerica thank love soft view travel san sfo http co cnctl g ef', 'virginamerica ador look forward flight austin two week', 'virginamerica glad mention took first virgin flight year back transform experi', 'unit thank upgrad pleas tri get compani approv busi class travel', 'unit thank excit work guy', 'unit thank repli get better seat next leg munich would nice', 'unit thank take care mom reflight book problem flight phl', 'unit ill check appreci respons regardless', 'unit thank', 'unit flight attend extrem help woman hard time walk touch', 'unit thank much help birthday trip ticket confirm', 'unit thank appreci respons', 'unit thank', 'unit baggag check flight crew friendliest ever flight ogg lax', 'unit stick unit flight thank though effort much appreci', 'unit thank delta transfer bag go', 'unit dm sent thank much strong custom servic', 'virginamerica late flight bag check lost busi miss flight apt three peopl flight exp', 'unit everyon around us sit friend famili member book ticket octob decemb bought', 'unit child someon issu fli prepar ahead time reduc distress caus plane', 'unit lhr arriv loung fail wait min shower left find hotel u know mani passeng u carri plan', 'virginamerica question possibl book seat infant give option want seat', 'virginamerica use anoth browser amp brand reput built tech respons cross browser compat websit', 'unit follow order dm come', 'unit juli zero excus date system caus problem like', 'unit hard stay upset someon least tri show remors', 'virginamerica site trip tri check get plain text version reluct enter card info', 'unit way simpl apolog goe long way even hollow one obviou care well', 'virginamerica understand need dm give answer damag luggag polici', 'unit someon sever anxieti one person help next', 'unit ye pleas newli marri tri updat last name preexist intern flight seem easi', 'virginamerica rang wait minut book ticket vendor fix site', 'unit alway happen guy make travel incred stress uncomfort good busi', 'virginamerica flight flight book problem site total folk problem', 'unit uctraveladvisor would love respond websit saw realli long form busi new seat bad', 'unit incred easi fix would rather stay comfort zone get forc mine', 'unit given option use unit travelbank recent flight book problem help use recoup fund thank', 'virginamerica must travel miss flight late flight check bag miss morn appoint lost busi sfo lax', 'unit logan board gong show due lax carri enforc bin full coat room bag u need better system', 'virginamerica problem flight book problem web site keep give error contact phone phone minut wait', 'virginamerica await return phone call would prefer use onlin self servic option', 'virginamerica chat support work site http co vhp gtdwpk', 'virginamerica heyyyi guyyyi tri get hour someon call pleas', 'virginamerica supp biz travel like southwestair custom servic like jetblu neverflyvirginforbusi', 'virginamerica interest fli cancel flight next four flight plan neverflyvirginforbusi', 'virginamerica disappoint experi share everi busi travel meet neverflyvirgin', 'virginamerica troubl ad flight wife book elev account help http co px hqok r', 'virginamerica land lax hour late flight bag check busi travel friendli nomorevirgin', 'virginamerica call servic line hung awesom sarcasm', 'virginamerica need regist servic dog first class ticket sfo gt dull phone queue hour longer pl advis', 'virginamerica paid premium fli across countri cancel flight flight offer check fee upgrad love sad face', 'virginamerica mean polici destroy luggag', 'unit one time thing either shock pattern repeat neglect disrespect', 'unit frustrat nervou', 'unit one make difficult', 'unit servic far horrid want end trip high note guess option', 'unit book flight home month ago request seat togeth fianc e got middl seat unaccept', 'unit pl properli train agent request speak k custom servic amp transfer dead end even open hr', 'unit ua flight current stuck portland miss ride hour delay getmartyhom', 'unit thank took care everyth made right experi use open app find flight chang', 'unit thank listen definit person line thought absurd', 'unit sent thank', 'unit bummer thank quick respons', 'unit thx respons final got min wait talk someon', 'southwestair thank quick respons call daili wait day', 'virginamerica know need spotifi stat guiltypleasur', 'virginamerica congrat win travelzoo award best deal airlin us http co kj iljaebv', 'virginamerica appli member inflight crew team im interest flightattend dreampath g', 'virginamerica amaz custom servic raeann sf best customerservic virginamerica fli', 'virginamerica beauti front end design right cool still book ticket b c back end secur', 'virginamerica absolut best team custom servic ever everi time fli delight thank', 'virginamerica alway xoxo', 'virginamerica amaz staff amp super help ran waltdisneyworld princesshalf spoil comfort', 'alway togeth welcom rt virginamerica jessicajaym welcom', 'virginamerica thank check ticket purchas custom happi', 'unit thank chees platter abund entertain option time flew', 'unit thank ask', 'unit favorit airlin', 'unit terrif mani thank look forward back ua tomorrow great flight vancouv', 'unit thank', 'unit excel reliabl happycustom', 'unit thank first time unit loung felt welcom', 'unit love part long day attend ua ua beyond except today givethoseladiesrais', 'unit nope set thx check', 'unit thank got coupl minut ago great servic flight btw pleas pass team flight', 'southwestair thank southwest save trip sweetheart go miss see altonbrownl thank sohappi', 'southwestair thank awesom flight sweetheart got screw flyfronti manag scrambl get sw plane today', 'southwestair late flightst ad make happi fli day bethonor', 'southwestair flight wifi tmobil wifi call make best combin love text feet air', 'southwestair thank', 'southwestair follow thank', 'southwestair good thank', 'southwestair thank great custom servic far accid happen understand hope everyth work', 'never got strip fast stoke special imaginedragon show tonight thx southwestair http co topqmvqnjp', 'southwestair pair ticket wait sport practic live definit know imaginedragon', 'southwestair safeti do ts announc flight midway mdw pittsburgh pit', 'southwestair nice touch passbook integr', 'unit thank move dad mom flight help make birthday start friendlyfriday awesom paw', 'unit worri everyon board cushion brought took made', 'unit blown away stellar custserv thank lt http co jorescfb x', 'unit thank supervisor miriam provid great custom servic final', 'unit take note great exampl jetblu actual make good extrem inconveni situat http co gnk n ld', 'unit thank get businessfirst prioriti tag bag onto connect flight ewr despit hour layov nice job', 'unit good note employe encount newark fabul late flight connect flight got', 'virginamerica manag itinerari section websit seem broken http co pujvcelng', 'virginamerica alreadi contact central baggag amp sent dm renttherunway charg dress lost suitcas help', 'virginamerica lost luggag day ago flight vx lax iad amp call everi day respons pleas give back stuff', 'virginamerica look like broken link asset http co oardjjgrrd', 'virginamerica luggag gone file paperwork promis call email still resolut respons central luggag', 'unit sent thank', 'unit alway make cross countri flight rad hemispheresmag babi flier charlott thtime monthsold http co kcqnwixucm', 'unit v upset disabl servic told one employe carri medic equip rude', 'unit pay wifi intern busi ticket pennypinch', 'virginamerica help left expens headphon flight iad lax today seat one answer l amp f number lax', 'virginamerica anyon anyth today websit useless one answer phone', 'unit fli', 'unit addit first flight delay hour arriv destin hr late flight', 'unit michel ord train staff treat custom refresh pleasur deal', 'unit thank', 'unit ewr agent barbara fabul exampl cust serv pleasur talk http co kmquli g e', 'unit thank upgrad today great way start week cc ciscojimfrench cobedien', 'unit thank follow', 'unit thank much passport recov', 'southwestair glad know fli luv airlin tomorrow', 'expir unit offer buy transfer unit mileageplu mile discount mani offer year http co tz imqzlg', 'virginamerica hi tri check websit work tri differ browser problem continu', 'unit sure wait min yay', 'unit excit put earlier flight get home woo hoo travel', 'unit definit compliment realli thought bag lost sent anoth airport end happi custom', 'unit good call tomorrow thank', 'unit win', 'unit best way unit one true love shop usa fashion capit newyork unitedvusa http co rbn stuij', 'virginamerica need chang flight that schedul hour min wait time phone im call intern help', 'virginamerica got pm newark home la folk ewr incred letsgohom', 'virginamerica first time fli virgin went sanfrancisco thank smooth ride easili new fav airlin', 'virginamerica hi bked cool birthday trip add elev caus enter middl name flight book problem', 'virginamerica vx use lga slot instead today ad au make less like', 'virginamerica umm reason someon differ contact contact get definit answer', 'virginamerica mood light point reclin seat kickin feet', 'virginamerica man steel fli citi though frequenc', 'virginamerica anoth perfect flight come plane sun visor stay carrier make rais', 'unit thank respond promptli look forward km drive offic file claim', 'unit flight attend regain karma give big sweati dad cold water guy run amp carri daughter last one onboard', 'unit report still istanbul moment appar plane haha hat pilot', 'unit nicest gate attend newark airport gate right multipl delay still pleasant everyon', 'unit delay connect custom servic today abl pay final respect dear famili member thank', 'unit thing fella done right today get pacif time zone', 'unit amaz fli mile unitedairlin amp allianc last year still got jilt statu moneyelsewher', 'unit thank wish ladi littl rock told morn ask', 'unit thank speedi respons figur may someth natur guy fine print haha', 'unit done thank', 'virginamerica promot product problem southwest recommend noneoth best http co tfanxbh cf', 'virginamerica got squar away someon pick soon tweet tweet sooner', 'virginamerica karinsle cours fun celebr thank happi chines new year', 'virginamerica gave credit late flight flight yesterday great servic wow moment unexpect gestur', 'virginamerica look fat look yummi', 'virginamerica omg omg nonstop dalla austin virgin', 'virginamerica good home texa moodlight http co n bvzti zi', 'virginamerica luv ur peopl product thing u charg herbal tea black tea caffein drinker', 'virginamerica incred custom servic ever experienc refresh', 'virginamerica dream realli open rout dalla austin mean houston might next', 'virginamerica congrat vx new rout', 'virginamerica classi', 'virginamerica thank much share ad site http co tsvibtvt h', 'virginamerica plan short haul airlin europ would defiantli fli guy', 'unit welcom', 'unit flt ewr sfo excel servic friendli flight attend made flight good start day', 'unit ye therealavi instagram', 'unit follow messag thank much help', 'unit thank quick repli fill form idnumb hopetogetanswersoon', 'unit ye thx land', 'unit staralli week ago awesom bright vibrant habitrail', 'unit good flight thank', 'unit tri standbi denver tonight cancel flight father son trip till next year thx tri', 'unit fantast job peopl today ua dublin jam pack plane crew wonder', 'unit boe star allianc short final heathrowairport l amaz winter morn avgeek http co owmaxoyehz', 'unit today staff msp took custom servic new level father pass away last night amp help get home today thank', 'unit great thank', 'unit guy big heart keep good work', 'unit sivi stewart lax fantast tonight help find lost item us airport much thank', 'unit chicago hometown airlin care neighbor savethediagon flyquiet ordnois', 'unit flight attend superben super help find bag left flight today excel custom servic name fit', 'unit travel guest mileag plu member use member mile great custom servic', 'unit took pictur thursday awesom http co ivgpzsjtkw', 'unit look like settl go thx', 'unit thank great servic newark seat fix seat daughter fab land fort myer', 'virginamerica shame va make peopl spend money strand citi airlin land jfk reimburs', 'virginamerica request mileag challeng statu sever week ago onlin heard back get help', 'virginamerica virginatlant check flight sfo lax amp told atlant fli club gold get benefit', 'virginamerica lot apolog thrown custom see sad thank noth worst airlin ever', 'virginamerica reason delay departur vx jfk afternoon', 'virginamerica gonna deal dalla dc deal dc dalla sad', 'virginamerica spend birthday night dal dca get home', 'virginamerica flight book problem section websit seem broken chrome might wanna look', 'virginamerica request window seat confirm window got stuck middl seat good way treat silver member', 'virginamerica mani apolog r wors airlin even respond cudtom', 'virginamerica suck', 'unit bag refer id number ind thank look', 'unit two seat avail far us', 'unit wait tpallini http co odlal edh', 'unit aw thank kind word total make extra hour sit airport soooo much better', 'unit abl get moon flight got hotel puerto rico thank', 'unit ok thank sent dm disregard', 'virginamerica love guy song danc high school danc revu', 'virginamerica thank much awesom support guy rock', 'virginamerica put great deal pdx la la pdx show love http co eniqg buzj', 'virginamerica wish afford fli next friday go back home love everyth airlin', 'virginamerica airlin base silicon valley disrupt fcmostinnov incub fastcompani http co wu lbcncr', 'virginamerica classiq luv virgin america greetingz', 'virginamerica thank guy sweet rout rocki airplanemodewason', 'virginamerica love music blast gate boston wait flight sanfrancisco could get ice coffe', 'virginamerica inflight team make experi amaz', 'virginamerica cutest salt pepper shaker ever think guy get better http co vc keulg j', 'virginamerica fav airlin', 'virginamerica hot femal pilot sweet dca sfo', 'virginamerica free drink flight back free promo', 'unit thank epic servic alway pleasur outstand crew http co trqlpeinzw', 'unit life goal complet', 'unit sent dm thank acknowledg', 'unit thank much appreci help', 'unit hubbi made skin teeth', 'unit see thank explain', 'unit hour wait issu resolv contact custom servic comment wait time thank contact', 'unit thank', 'appreci unit', 'unit problem follow back thank', 'unit frustrat well way relat flightd anyway impress made', 'unit awesom thank much help', 'unit thank', 'unit great land denver next rapid citi snow start fall florida everglad faint sunburn away come cold', 'unit guy made day treat well thank', 'unit thank good servic safe flight way home', 'unit thank repli fill form submit request good know pay attent', 'unit good man fault plane mainten issu', 'unit battierccipuppi puppi cute look forward board thank high five ey', 'unit thank catch conect', 'unit perfect work thank', 'unit mechan issu look like got fix thank concern', 'unit sinc get good transcontinent flight h pleasur relief', 'unit thank offer sort', 'unit think best first class ever gotten denver lax wonder', 'unit pilot ua land plane like gentli place us pile whip cream smoothest land ever', 'unit thank dmed hn', 'unit pleas send link email formal compliment iren slc best custom servic ever paxex', 'unit spite flight delay great custom servic provid janet baggag employe karen wonder employe unit', 'unit flt capt herman amaz came flight play ask captain anyth wonder ambassador airlin', 'thank unit unit dan roam beauti place stay day longer book let know mn', 'unit alright thank much appreci', 'unit thank yup set happen slc ground staff prompt help courteou', 'unit guy awesom thank', 'unit anna palm spring gate deserv medal handl ppl miss flight like pro', 'unit great custom servic thank', 'unit battierccipuppi hope see board soon thank tweet ey', 'unit thank keep good work', 'unit sent confirm via dm thank much', 'unit wonder time flight ogg msn lost rx eyeglass thick admir club chicago morn found', 'unit thank repli contact custom care get clarif issu', 'unit best pilot ever thank guy great trip thatisal', 'unit perfectomobil admit app good lot use func live seat map congrat', 'unit ground montreal ua miss connect ua st loui help privat jet', 'unit start claim week unrealist realli suppos go long car seat child ridicul', 'unit credit last trip never came mail', 'virginamerica websit', 'unit wonder share fb insta would produc number charact realli limit stori tell', 'unit mobil app need construct ground os categori expens get right', 'virginamerica best whenev begrudgingli use airlin delay late flight', 'unit wont transfer flight ticket accompani yr old activ militari mom emerg brain surgeri wow', 'virginamerica site seem littl wonk right may want look tri two browser css http co qsqmm kf', 'virginamerica airlin awesom lax loft need step game dirti tabl floor http co hy vrfhjht', 'unit anoth fail unit ticket agent okc less help could care less problem american come', 'unit go noth like alway', 'unit seek go client b c u cant get need refund fill form confid work past indic', 'unit shame flex ticket transfer rule even call neurosurgeri icu enough', 'unit agent met us gate said issu w delay ua would taken onlin', 'virginamerica first fare may three time carrier seat avail select', 'unit k problem get fll iah sent dm make connect pleas let know', 'unit pay luggag deliv arriv wait addit day deliveri', 'unit k alway hope improv', 'unit explain eager flight attend tri ask vision ccicanin guid dog', 'unit well sit ground time wait gate tiredofthi', 'unit ladi one phone say tel aviv tel aviv unit say newark one know noth', 'unit highbuddyyi total suck cousin work phl said unit', 'virginamerica like custom servic min delay connect passeng seem long va', 'unit blackmail pay extra return ticket nullifi san francisco airport terribl servic rep scam', 'unit measli e certif appreci loyal custom wait hr tarmac ua unaccept', 'unit prefer secur line anymor tsa pre check pull silverairway partner flight platinum spoil', 'virginamerica let scan passeng leav plane told someon remov bag st class bin uncomfort', 'virginamerica reschedul cancel flightl flight onlin chang button grey', 'unit crash tri check', 'unit abl dm confirm number', 'unit cheertymedad buy tix day flight transfer tix flaw secur logic flaw custom servic', 'unit unit coupon make broken entertain system hour flight serious ridicul learncustomerservic', 'virginamerica happen ur vegan food option least say ur site know abl eat anyth next hr fail', 'unit okay ase find luggag', 'unit hour ago need work bag make hotel time need go elsewher', 'unit point ask detail servicedog book flight crew read continu', 'unit get account number websit say email unavail', 'unit cancel flightn left us fend flt came late flight get runaround hr employe blame previou', 'unit bad ua anoth unforese oper issu return flight', 'unit complet form doubt use ua care day vacat sure ua feel respons', 'unit well fix miss buddi th bday neglig attempt make', 'virginamerica chrysichrys assist yesterday u cancel flightl flight give us hotel hotlin shame', 'unit car seat lost unit reimburs new one pair shoe necess child', 'unit iah charlott baggag claim rep latric h customerservic non exist ignor custom inappropri touch custom', 'unit receiv call back day infant car seat suppos go anywher child', 'unit sent messag let know got twitter liter also realli go stuck hr', 'virginamerica statu match program appli three week call email respons', 'virginamerica amaz get cold air vent vx noair worstflightev roast sfotobo', 'virginamerica go custom servic anyway speak human asap thank', 'virginamerica like tv interest video disappoint cancel flightl flight flight went jfk saturday', 'virginamerica fidifamili us terribl airlin gave us hotel hotlin number said sorri', 'unit unit refus reissu lost voucher plane take due mechan badcustomerservic', 'unit believ help custom servic like said want number someon fix', 'unit worst unitedflightsev ua la iad mechan problem took land fix delay wtfodd', 'unit worst unitedflightsev ua iad la mechan problem switch aircraft delay hour', 'unit receiv bag last night still miss one', 'unit time call need ski go airport get faith unit', 'unit mayb bbbne sd ks ia would care hear went whoever listen issu caus', 'unit tell number call left airport neglig pilot staff', 'unit could email resent doesnt appear arriv', 'unit unhappi respons complaint email nd feb ref aw custom servic', 'unit common keep paper work readi delay flight meet choosechicago', 'unit guy horribl', 'unit luggag broken youcouldntmakethi brokenwheel', 'unit mayb one day one quot http co mjkpgvxmpc', 'unit thank rememb load bag onto connect flight oh wait forgot iceland fun cloth', 'unit thank lack help can respons k desk', 'unit ye still answer mani luggag day unaccept', 'unit thank fill luck common', 'unit privat jet would cool work tri', 'unit man wait book ticket thank jp life sabe', 'unit guy continu impress houston http co cih qnllcm', 'unit refund us vacat get free room night make make us sleep dia', 'unit left comment custom care thank contact', 'unit great readi go home', 'unit den b agent amaz mpagent check suck seanmfmadden peterstraubmma jmercadomma tonysimsmma', 'unit solv final pick second time call thank respons jh dull work', 'unit wonder job today got wife daughter pgh orlando flight delay luggag', 'unit thank effort get earliest though make complaint refund lose one busi day tomorrow', 'southwestair use alway fli southwest', 'southwestair thank ella mae la counter go beyond help us get back abq flight cancel flightl', 'southwestair fact u see black histori month month year honor econom base corp like u futur', 'southwestair awesom flight dalla ny virgin america refus bc child peanut allergi u guy thank', 'southwestair realli easi local get strip book', 'virginamerica freddieaward done done best airlin around hand', 'virginamerica view downtown lo angel hollywood sign beyond rain mountain http co dw nf ibtr', 'virginamerica elevategold good reason rock', 'virginamerica ladygaga carrieunderwood love three realli beat classic', 'virginamerica great week', 'virginamerica anoth rep kick butt naelah repres team beauti thank', 'virginamerica thank outstand nyc jfk crew move mountain get home san francisco tonight', 'virginamerica complet awesom experi last month bo la nonstop thank awesom flight depart time vabeatsjblu', 'virginamerica best custom servic rep world irmafromdalla take cake', 'unit thank', 'unit thank', 'unit thank ticket', 'unit record rozana newark love help choosekind', 'unit thank tri two day set', 'unit definit trip rememb ewr sti second season first seat pay loyal', 'unit flew unit au austin bergstrom cancun intl best flight ever big small', 'unit made upgrad list fli st tomorrow min first time ever statusmatchpaidoff http co atfrkp goy', 'unit thank remind fun ride http co ppva rch f', 'unit thank', 'unit thank touch', 'unit awesom book next christma vacatinn decemb way want devalu mileag plu', 'unit reebok rockinwel denver intern airport http co tkvmhbkec', 'unit favorit way travel thank http co vgn x ckg', 'unit pleas premier platinum', 'thank unit truu tall certainli take look pleas follow dm confirm number assist jh', 'unit big thank ms winston assist phone baggag claim issu today realli went extra mile', 'unit look beauti dc unit airlin http co mvyoizrpd', 'unit great hear thankyou much greatli appreci repli feel much settl', 'unit thank liter call preboard ran', 'unit brilliant thankyou much class part carryon', 'unit thank listen compliant right thing appreci work', 'unit thank', 'unit thank updat', 'unit best custom experi via twitter huge fan', 'unit love new st class breakfast', 'unit cool thank', 'unit wanna grand staff', 'unit wanna ride unit airlin love airplan', 'unit flight next two week let make good memori', 'unit deliv thank make sure arriv doorstep', 'unit thank', 'unit claudia iah termin b travel assist set great servic thank', 'unit cancel flight flight anytim keep night http co avrtowtyzk', 'unit resolv hour work ground amp somehow system reset takeoff appreci quick respons servic', 'unit add earlier tweet daughter th bday present thank hard work make happen', 'unit look beauti dc unit airlin hope like beauti http co ns acfqcdq', 'unit thank gate agent extraordinair seau fong help get book bois hope home nyc sometim tonight', 'unit great flight pvd smallest plane ever smoothest land ever', 'unit probabl least depend airlin western hemispher unit belong star allianc skyteam', 'unit amaz hospit help anthoni lastella great staff def fli unit', 'unit thank', 'unit work thank immedi repli', 'unit thank', 'unit thank', 'southwestair thank much complet made thing right', 'southwestair manag get sort phone good luck deal snow texa', 'southwestair weather bc system outag hope everyth goe smoothli thank follow', 'southwestair intuit jhamilton mom career day trip la intuitlif leanin http co qjbcv jzq southwestairlin', 'southwestair smoooothest flight attend southwestsmoothi http co vr k lai', 'southwestair look forward fli swa friday luv airlin dtw mdw tu', 'southwestair love airlin much thank much servic great snack amaz everyth outstand thank', 'southwestair great flight cabo last week famili smoothflight frequentfly', 'southwestair thank two smooth safe fast flight boston houston luvswa http co elhxuv uj', 'southwestair kati gate c denver intern fantast custom servic help new flyer thx amaz staff', 'southwestair crew flight awesom tell sent tweet mayb give free wifi canthurtask', 'southwestair thankyou', 'southwestair beyond readi', 'southwestair flight attend realli funni sass give life', 'southwestair thank thank thank last attempt win destinationdragon ticket success could happier', 'southwestair flight phx lax wheel stop glad home thank profession front cabin', 'southwestair mdw san flt attend melissa awesom fast smile great weather cancel flight day b welcom', 'southwestair tell fam vega', 'southwestair thank', 'southwestair luv new luv televis commerci travel airlin last year return trip nyc feltthelov', 'southwestair best airlin', 'southwestair got call apolog person long wait last week tri rebook flight class act appreci', 'southwestair stick fli free southwest goe son work wonder compani mom fli free', 'southwestair got help nice ladi phone georgia thank']\n"
          ],
          "name": "stdout"
        }
      ]
    },
    {
      "cell_type": "markdown",
      "metadata": {
        "id": "CLqmAkANCp1-",
        "colab_type": "text"
      },
      "source": [
        "## Creating the Bag of Words model"
      ]
    },
    {
      "cell_type": "markdown",
      "metadata": {
        "id": "WFd3ytTEfI4C",
        "colab_type": "text"
      },
      "source": [
        ""
      ]
    },
    {
      "cell_type": "code",
      "metadata": {
        "id": "qroF7XcSCvY3",
        "colab_type": "code",
        "colab": {}
      },
      "source": [
        "from sklearn.feature_extraction.text import CountVectorizer\n",
        "cv = CountVectorizer(max_features = 1500)\n",
        "X = cv.fit_transform(corpus).toarray()\n",
        "y = dataset.iloc[:, 1].values"
      ],
      "execution_count": 0,
      "outputs": []
    },
    {
      "cell_type": "code",
      "metadata": {
        "id": "MhgAM9ZygVW_",
        "colab_type": "code",
        "colab": {
          "base_uri": "https://localhost:8080/",
          "height": 136
        },
        "outputId": "92634097-dc17-496b-edbc-932644dece8a"
      },
      "source": [
        "print(X)"
      ],
      "execution_count": 7,
      "outputs": [
        {
          "output_type": "stream",
          "text": [
            "[[0 0 0 ... 0 0 0]\n",
            " [0 0 0 ... 0 0 0]\n",
            " [0 0 0 ... 0 0 0]\n",
            " ...\n",
            " [0 0 0 ... 0 0 0]\n",
            " [0 0 0 ... 0 0 0]\n",
            " [0 0 0 ... 0 0 0]]\n"
          ],
          "name": "stdout"
        }
      ]
    },
    {
      "cell_type": "code",
      "metadata": {
        "id": "5nD5yAOQggsW",
        "colab_type": "code",
        "colab": {
          "base_uri": "https://localhost:8080/",
          "height": 493
        },
        "outputId": "d2783096-33d1-4379-a741-ceae63038657"
      },
      "source": [
        "print(y)"
      ],
      "execution_count": 8,
      "outputs": [
        {
          "output_type": "stream",
          "text": [
            "[1 1 1 0 0 0 0 1 1 1 1 1 1 0 1 1 1 1 0 0 1 1 1 0 0 1 1 1 1 1 1 0 0 1 1 1 0\n",
            " 0 0 0 1 1 1 1 1 1 1 1 0 0 1 1 1 0 1 1 1 1 1 1 1 1 1 1 1 1 1 1 1 1 0 0 0 1\n",
            " 1 1 1 1 1 1 1 1 1 1 1 1 1 1 1 1 1 1 1 1 1 1 1 1 1 1 1 1 1 0 0 0 0 0 0 0 1\n",
            " 1 1 1 1 1 1 1 1 1 1 1 1 1 1 1 1 1 1 1 1 1 1 1 1 1 1 1 1 1 1 1 1 1 1 1 1 1\n",
            " 1 1 1 1 1 1 0 0 0 0 0 0 0 0 0 0 0 0 0 0 0 0 0 0 0 0 0 0 1 1 1 1 1 1 1 1 1\n",
            " 1 1 1 1 1 1 1 1 1 1 1 1 1 1 1 1 1 1 1 1 1 1 1 1 1 1 1 1 0 0 0 0 0 0 0 1 1\n",
            " 1 1 1 1 1 1 1 1 1 1 1 1 1 1 1 1 1 1 1 1 1 1 1 1 1 1 1 1 1 1 1 1 1 1 0 0 0\n",
            " 0 0 0 0 0 0 0 0 0 0 0 0 0 0 0 0 0 0 1 1 1 1 1 1 1 1 1 1 1 1 1 1 1 1 1 1 1\n",
            " 1 1 1 1 1 1 1 1 1 1 1 1 1 1 1 1 1 1 1 1 1 1 1 1 1 1 1 1 1 1 1 1 1 1 1 1 1\n",
            " 1 1 0 0 0 0 0 0 0 0 0 0 0 0 0 0 0 0 0 0 0 0 0 0 0 0 0 0 0 0 0 0 0 0 0 0 0\n",
            " 0 0 0 1 1 1 1 1 1 1 1 1 1 1 1 1 1 1 1 1 1 1 1 1 1 1 1 1 1 1 1 1 1 1 1 1 1\n",
            " 1 1 1 1 1 1 1 1 1 1 1 1 1 1 1 1 1 1 1 1 1 1 1 1 1 1 1 1 1 1 1 1 1 1 1 1 1\n",
            " 1 1 1 1 1 1 1 1 1 1 0 0 0 1 0 0 0 1 1 1 1 1 1 0 0 0 0 0 0 0 0 0 0 1 1 1 1\n",
            " 1 1 1 1 1 1 1 1 0 1 1 1 1 1 1 1 0 0 0 0 0 0 0 1 1 1 1 1 1 1 1 0 1 0 0 0 1\n",
            " 1 1 1 1 1 1 1 1 1 1 1 1 1 1 1 1 1 1 1 1 1 1 1 0 0 0 0 0 0 0 0 0 0 0 0 0 0\n",
            " 0 0 1 1 1 1 1 1 1 1 1 1 1 1 1 1 1 1 1 1 1 1 1 1 1 1 1 1 1 1 1 1 1 1 1 1 1\n",
            " 1 1 1 0 0 0 0 0 0 0 0 0 0 0 0 0 0 0 0 0 0 0 0 0 0 0 0 0 0 0 0 0 0 0 0 0 0\n",
            " 0 0 0 0 0 0 0 0 1 1 1 1 1 1 1 1 1 1 1 1 1 1 1 1 1 1 1 1 1 1 1 1 1 1 1 1 1\n",
            " 1 1 1 1 1 1 1 1 1 1 1 1 1 1 1 1 0 0 0 0 0 1 1 0 0 0 0 0 0 1 1 1 1 1 1 1 1\n",
            " 0 1 1 1 1 1 1 0 1 1 0 0 0 0 0 1 1 1 1 1 1 1 1 1 1 1 1 1 1 1 1 1 1 1 1 1 1\n",
            " 1 1 1 1 1 1 1 1 1 1 1 1 1 1 1 1 1 1 1 1 1 1 1 1 0 0 0 0 0 0 0 0 0 0 0 1 1\n",
            " 1 1 1 1 1 1 1 1 1 1 1 1 1 1 1 1 1 1 1 1 1 1 1 1 1 1 1 1 1 1 1 1 1 1 1 1 1\n",
            " 1 1 1 1 1 1 1 1 1 1 1 1 1 1 1 1 1 1 1 1 1 1 1 0 0 0 0 0 0 0 0 0 0 0 0 0 0\n",
            " 0 0 0 0 0 0 0 0 0 0 0 0 0 0 0 0 0 0 0 0 0 0 0 0 0 0 0 0 0 0 0 0 0 0 0 0 0\n",
            " 0 0 0 0 0 0 0 0 0 0 0 0 0 0 0 0 0 0 1 1 1 1 1 1 1 1 1 1 1 1 1 1 1 1 1 1 1\n",
            " 1 1 1 1 1 1 1 1 1 1 1 1 1 1 1 1 1 1 1 1 1 1 1 1 1 1 1 1 1 1 1 1 1 1 1 1 1\n",
            " 1 1 1 1 1 1 1 1 1 1 1 1 1 1 1 1 1 1 1 1 1 1 1 1 1 1 1 1 1 1 1 1 1 1 1 1 1\n",
            " 1]\n"
          ],
          "name": "stdout"
        }
      ]
    },
    {
      "cell_type": "markdown",
      "metadata": {
        "id": "DH_VjgPzC2cd",
        "colab_type": "text"
      },
      "source": [
        "## Splitting the dataset into the Training set and Test set"
      ]
    },
    {
      "cell_type": "code",
      "metadata": {
        "id": "qQXYM5VzDDDI",
        "colab_type": "code",
        "colab": {}
      },
      "source": [
        "from sklearn.model_selection import train_test_split\n",
        "X_train, X_test, y_train, y_test = train_test_split(X, y, test_size = 0.20, random_state = 0)"
      ],
      "execution_count": 0,
      "outputs": []
    },
    {
      "cell_type": "code",
      "metadata": {
        "id": "hoNDB50lgpkX",
        "colab_type": "code",
        "colab": {}
      },
      "source": [
        "print(X_train)"
      ],
      "execution_count": 0,
      "outputs": []
    },
    {
      "cell_type": "code",
      "metadata": {
        "id": "ODA3JaktgyuR",
        "colab_type": "code",
        "colab": {}
      },
      "source": [
        "print(X_test)"
      ],
      "execution_count": 0,
      "outputs": []
    },
    {
      "cell_type": "code",
      "metadata": {
        "id": "TJWuhiweg3LH",
        "colab_type": "code",
        "colab": {}
      },
      "source": [
        "print(y_train)"
      ],
      "execution_count": 0,
      "outputs": []
    },
    {
      "cell_type": "code",
      "metadata": {
        "id": "MyIshyKog8ES",
        "colab_type": "code",
        "colab": {}
      },
      "source": [
        "print(y_test)"
      ],
      "execution_count": 0,
      "outputs": []
    },
    {
      "cell_type": "markdown",
      "metadata": {
        "id": "VkIq23vEDIPt",
        "colab_type": "text"
      },
      "source": [
        "## Training the Naive Bayes model on the Training set"
      ]
    },
    {
      "cell_type": "code",
      "metadata": {
        "id": "DS9oiDXXDRdI",
        "colab_type": "code",
        "outputId": "b317a733-28d3-4cda-e1e3-e580564f39b5",
        "colab": {
          "base_uri": "https://localhost:8080/",
          "height": 34
        }
      },
      "source": [
        "from sklearn.naive_bayes import GaussianNB\n",
        "classifier = GaussianNB()\n",
        "classifier.fit(X_train, y_train)"
      ],
      "execution_count": 0,
      "outputs": [
        {
          "output_type": "execute_result",
          "data": {
            "text/plain": [
              "GaussianNB(priors=None, var_smoothing=1e-09)"
            ]
          },
          "metadata": {
            "tags": []
          },
          "execution_count": 32
        }
      ]
    },
    {
      "cell_type": "markdown",
      "metadata": {
        "id": "SXNdmUfhztn7",
        "colab_type": "text"
      },
      "source": [
        "Training the Decision Tree Model on the Training set"
      ]
    },
    {
      "cell_type": "code",
      "metadata": {
        "id": "6a_i4uTXzzxu",
        "colab_type": "code",
        "colab": {
          "base_uri": "https://localhost:8080/",
          "height": 119
        },
        "outputId": "9e5d4e97-8c53-4977-8774-8b3d2192f724"
      },
      "source": [
        "from sklearn.tree import DecisionTreeClassifier\n",
        "classifier = DecisionTreeClassifier(criterion = 'entropy', random_state = 0)\n",
        "classifier.fit(X_train, y_train)"
      ],
      "execution_count": 15,
      "outputs": [
        {
          "output_type": "execute_result",
          "data": {
            "text/plain": [
              "DecisionTreeClassifier(ccp_alpha=0.0, class_weight=None, criterion='entropy',\n",
              "                       max_depth=None, max_features=None, max_leaf_nodes=None,\n",
              "                       min_impurity_decrease=0.0, min_impurity_split=None,\n",
              "                       min_samples_leaf=1, min_samples_split=2,\n",
              "                       min_weight_fraction_leaf=0.0, presort='deprecated',\n",
              "                       random_state=0, splitter='best')"
            ]
          },
          "metadata": {
            "tags": []
          },
          "execution_count": 15
        }
      ]
    },
    {
      "cell_type": "markdown",
      "metadata": {
        "id": "Ns1NvJfi0uT-",
        "colab_type": "text"
      },
      "source": [
        "Training the Random Forest model on the Training set"
      ]
    },
    {
      "cell_type": "code",
      "metadata": {
        "id": "0OIBWiYn06mv",
        "colab_type": "code",
        "colab": {
          "base_uri": "https://localhost:8080/",
          "height": 153
        },
        "outputId": "f7a738d5-0cba-40ae-8de5-178d97061a6f"
      },
      "source": [
        "from sklearn.ensemble import RandomForestClassifier\n",
        "classifier = RandomForestClassifier(n_estimators = 10, criterion = 'entropy', random_state = 0)\n",
        "classifier.fit(X_train, y_train)"
      ],
      "execution_count": 19,
      "outputs": [
        {
          "output_type": "execute_result",
          "data": {
            "text/plain": [
              "RandomForestClassifier(bootstrap=True, ccp_alpha=0.0, class_weight=None,\n",
              "                       criterion='entropy', max_depth=None, max_features='auto',\n",
              "                       max_leaf_nodes=None, max_samples=None,\n",
              "                       min_impurity_decrease=0.0, min_impurity_split=None,\n",
              "                       min_samples_leaf=1, min_samples_split=2,\n",
              "                       min_weight_fraction_leaf=0.0, n_estimators=10,\n",
              "                       n_jobs=None, oob_score=False, random_state=0, verbose=0,\n",
              "                       warm_start=False)"
            ]
          },
          "metadata": {
            "tags": []
          },
          "execution_count": 19
        }
      ]
    },
    {
      "cell_type": "markdown",
      "metadata": {
        "id": "1JaRM7zXDWUy",
        "colab_type": "text"
      },
      "source": [
        "## Predicting the Test set results"
      ]
    },
    {
      "cell_type": "code",
      "metadata": {
        "id": "Iif0CVhFDaMp",
        "colab_type": "code",
        "colab": {}
      },
      "source": [
        "y_pred = classifier.predict(X_test)"
      ],
      "execution_count": 0,
      "outputs": []
    },
    {
      "cell_type": "markdown",
      "metadata": {
        "id": "xoMltea5Dir1",
        "colab_type": "text"
      },
      "source": [
        "## Making the Confusion Matrix"
      ]
    },
    {
      "cell_type": "code",
      "metadata": {
        "id": "Xj9IU6MxDnvo",
        "colab_type": "code",
        "outputId": "71d0eacb-543f-4840-fb3e-b40131d2425b",
        "colab": {
          "base_uri": "https://localhost:8080/",
          "height": 51
        }
      },
      "source": [
        "from sklearn.metrics import confusion_matrix\n",
        "cm = confusion_matrix(y_test, y_pred)\n",
        "print(cm)"
      ],
      "execution_count": 21,
      "outputs": [
        {
          "output_type": "stream",
          "text": [
            "[[ 26  29]\n",
            " [  8 137]]\n"
          ],
          "name": "stdout"
        }
      ]
    }
  ]
}